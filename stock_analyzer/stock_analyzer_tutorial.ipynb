{
 "cells": [
  {
   "cell_type": "markdown",
   "metadata": {},
   "source": [
    "# 주식 가격 변동 모니터링 및 뉴스 분석 프로그램\n",
    "\n",
    "이 노트북은 주식의 가격 변동을 모니터링하고, 큰 변동이 있을 때 관련 뉴스를 자동으로 검색하는 프로그램을 설명합니다.\n",
    "\n",
    "## 목차\n",
    "1. 프로그램 개요\n",
    "2. 필요한 라이브러리 설치\n",
    "3. API 설정\n",
    "4. 코드 구조 상세 설명\n",
    "5. 실행 예제"
   ]
  },
  {
   "cell_type": "markdown",
   "metadata": {},
   "source": [
    "## 1. 프로그램 개요\n",
    "\n",
    "### 주요 기능:\n",
    "- **주식 가격 조회**: Alpha Vantage API를 사용해 실시간 주가 데이터를 가져옵니다\n",
    "- **가격 변동률 계산**: 어제와 오늘의 종가를 비교해 변동률을 계산합니다\n",
    "- **뉴스 검색**: 1% 이상 변동 시 NewsAPI를 통해 관련 뉴스를 자동으로 검색합니다\n",
    "- **결과 출력**: 주가 정보와 뉴스를 보기 좋게 포맷팅해서 출력합니다\n",
    "\n",
    "### 사용하는 API:\n",
    "1. **Alpha Vantage**: 무료 주식 데이터 API\n",
    "2. **NewsAPI**: 뉴스 검색 API"
   ]
  },
  {
   "cell_type": "markdown",
   "metadata": {},
   "source": [
    "## 2. 필요한 라이브러리 설치\n",
    "\n",
    "프로그램 실행에 필요한 라이브러리를 설치합니다:"
   ]
  },
  {
   "cell_type": "code",
   "execution_count": null,
   "metadata": {},
   "outputs": [
    {
     "ename": "",
     "evalue": "",
     "output_type": "error",
     "traceback": [
      "\u001b[1;31mRunning cells with '.venv (Python 3.12.11)' requires the ipykernel package.\n",
      "\u001b[1;31mInstall 'ipykernel' into the Python environment. \n",
      "\u001b[1;31mCommand: '/Users/sonny/Desktop/Developer/stock_analyzer/.venv/bin/python -m pip install ipykernel -U --force-reinstall'"
     ]
    }
   ],
   "source": [
    "\n",
    "# 터미널에 설치 필요\n",
    "!uv add --dev jupyter ipykernel"
   ]
  },
  {
   "cell_type": "code",
   "execution_count": 24,
   "metadata": {},
   "outputs": [
    {
     "name": "stdout",
     "output_type": "stream",
     "text": [
      "\u001b[2mResolved \u001b[1m104 packages\u001b[0m \u001b[2min 8ms\u001b[0m\u001b[0m\n",
      "\u001b[2mAudited \u001b[1m5 packages\u001b[0m \u001b[2min 1ms\u001b[0m\u001b[0m\n"
     ]
    }
   ],
   "source": [
    "# requests 라이브러리 설치 (HTTP 요청을 위해 필요)\n",
    "!uv add requests"
   ]
  },
  {
   "cell_type": "markdown",
   "metadata": {},
   "source": [
    "## 3. API 설정\n",
    "\n",
    "### Alpha Vantage API 키 얻기:\n",
    "1. https://www.alphavantage.co/support/#api-key 방문\n",
    "2. 무료 API 키 신청 (이메일 입력)\n",
    "3. 받은 API 키를 코드에 입력\n",
    "\n",
    "### NewsAPI 키 얻기:\n",
    "1. https://newsapi.org/register 방문\n",
    "2. 무료 계정 생성\n",
    "3. API 키를 코드에 입력"
   ]
  },
  {
   "cell_type": "markdown",
   "metadata": {},
   "source": [
    "## 4. 코드 구조 상세 설명\n",
    "\n",
    "### 4.1 필요한 라이브러리 임포트"
   ]
  },
  {
   "cell_type": "code",
   "execution_count": 3,
   "metadata": {},
   "outputs": [],
   "source": [
    "import requests  # HTTP 요청을 보내기 위한 라이브러리\n",
    "from typing import Dict, List, Tuple, Optional  # 타입 힌트를 위한 라이브러리"
   ]
  },
  {
   "cell_type": "markdown",
   "metadata": {},
   "source": [
    "### 4.2 StockAnalyzer 클래스 정의\n",
    "\n",
    "클래스를 사용하여 관련 기능들을 하나로 묶어 관리합니다:"
   ]
  },
  {
   "cell_type": "code",
   "execution_count": 14,
   "metadata": {},
   "outputs": [],
   "source": [
    "class StockAnalyzer:\n",
    "    \"\"\"주식 데이터 분석 및 뉴스 모니터링 클래스\"\"\"\n",
    "    \n",
    "    def __init__(self, ticker: str, company: str):\n",
    "        \"\"\"\n",
    "        초기화 메서드\n",
    "        \n",
    "        매개변수:\n",
    "        - ticker: 주식 심볼 (예: 'TSLA', 'AAPL')\n",
    "        - company: 회사명 (예: 'Tesla Inc', 'Apple Inc')\n",
    "        \"\"\"\n",
    "        self.ticker = ticker  # 주식 심볼 저장\n",
    "        self.company = company  # 회사명 저장\n",
    "        \n",
    "        # API 엔드포인트 URL 저장\n",
    "        self.api_endpoints = {\n",
    "            'stock': \"https://www.alphavantage.co/query\",  # 주식 데이터 API\n",
    "            'news': \"https://newsapi.org/v2/everything\"     # 뉴스 API\n",
    "        }\n",
    "        \n",
    "        # API 키 저장 (실제 사용 시 자신의 키로 교체 필요)\n",
    "        self.credentials = {\n",
    "            'alpha_vantage': \"EOWMRQVFKZNV4IFL\",\n",
    "            'news_api': \"008196f15126437588a9e0e1087f2652\"\n",
    "        }"
   ]
  },
  {
   "cell_type": "markdown",
   "metadata": {},
   "source": [
    "### 4.3 주식 데이터 가져오기 메서드"
   ]
  },
  {
   "cell_type": "code",
   "execution_count": 15,
   "metadata": {},
   "outputs": [],
   "source": [
    "def fetch_stock_data(self) -> Dict:\n",
    "    \"\"\"\n",
    "    Alpha Vantage API를 통해 주식 데이터 조회\n",
    "    \n",
    "    반환값:\n",
    "    - 주식 데이터가 담긴 딕셔너리 (JSON 형식)\n",
    "    - 오류 발생 시 빈 딕셔너리 반환\n",
    "    \"\"\"\n",
    "    # API 요청에 필요한 매개변수 설정\n",
    "    parameters = {\n",
    "        \"function\": \"TIME_SERIES_DAILY\",  # 일별 시계열 데이터 요청\n",
    "        \"symbol\": self.ticker,            # 주식 심볼\n",
    "        \"apikey\": self.credentials['alpha_vantage']  # API 키\n",
    "    }\n",
    "    \n",
    "    try:\n",
    "        # API에 GET 요청 보내기\n",
    "        response = requests.get(self.api_endpoints['stock'], params=parameters)\n",
    "        response.raise_for_status()  # HTTP 오류 확인\n",
    "        return response.json()       # JSON 형식으로 반환\n",
    "    except requests.exceptions.RequestException as e:\n",
    "        print(f\"주식 데이터 조회 실패: {e}\")\n",
    "        return {}"
   ]
  },
  {
   "cell_type": "markdown",
   "metadata": {},
   "source": [
    "### 4.4 종가 추출 메서드"
   ]
  },
  {
   "cell_type": "code",
   "execution_count": 16,
   "metadata": {},
   "outputs": [],
   "source": [
    "def extract_closing_prices(self, stock_data: Dict) -> Tuple[Optional[float], Optional[float]]:\n",
    "    \"\"\"\n",
    "    최근 이틀간의 종가 추출\n",
    "    \n",
    "    매개변수:\n",
    "    - stock_data: API에서 받은 주식 데이터\n",
    "    \n",
    "    반환값:\n",
    "    - (오늘 종가, 어제 종가) 튜플\n",
    "    - 데이터가 없으면 (None, None) 반환\n",
    "    \"\"\"\n",
    "    try:\n",
    "        # \"Time Series (Daily)\" 키에서 일별 데이터 추출\n",
    "        daily_series = stock_data.get(\"Time Series (Daily)\", {})\n",
    "        \n",
    "        # 날짜를 최신순으로 정렬\n",
    "        dates = sorted(daily_series.keys(), reverse=True)\n",
    "        \n",
    "        # 최소 2일치 데이터가 필요\n",
    "        if len(dates) < 2:\n",
    "            return None, None\n",
    "        \n",
    "        # 가장 최근 날짜의 종가 (\"4. close\"는 종가를 의미)\n",
    "        recent_close = float(daily_series[dates[0]][\"4. close\"])\n",
    "        \n",
    "        # 그 전날의 종가\n",
    "        previous_close = float(daily_series[dates[1]][\"4. close\"])\n",
    "        \n",
    "        return recent_close, previous_close\n",
    "        \n",
    "    except (KeyError, ValueError, IndexError):\n",
    "        # 데이터 형식이 잘못되었거나 필요한 키가 없는 경우\n",
    "        return None, None"
   ]
  },
  {
   "cell_type": "markdown",
   "metadata": {},
   "source": [
    "### 4.5 가격 변동률 계산 메서드"
   ]
  },
  {
   "cell_type": "code",
   "execution_count": 17,
   "metadata": {},
   "outputs": [],
   "source": [
    "def calculate_price_change(self, current: float, previous: float) -> Tuple[float, float, str]:\n",
    "    \"\"\"\n",
    "    가격 변동률 계산\n",
    "    \n",
    "    매개변수:\n",
    "    - current: 현재 가격\n",
    "    - previous: 이전 가격\n",
    "    \n",
    "    반환값:\n",
    "    - (변동 금액, 변동 퍼센트, 상승/하락 이모지)\n",
    "    \"\"\"\n",
    "    # 변동 금액 계산\n",
    "    change_amount = current - previous\n",
    "    \n",
    "    # 변동률 계산 (백분율)\n",
    "    change_percent = (change_amount / previous) * 100\n",
    "    \n",
    "    # 상승/하락 표시 이모지 선택\n",
    "    indicator = \"📈\" if change_amount >= 0 else \"📉\"\n",
    "    \n",
    "    return change_amount, round(change_percent), indicator"
   ]
  },
  {
   "cell_type": "markdown",
   "metadata": {},
   "source": [
    "### 4.6 뉴스 검색 메서드"
   ]
  },
  {
   "cell_type": "code",
   "execution_count": 18,
   "metadata": {},
   "outputs": [],
   "source": [
    "def fetch_company_news(self, min_threshold: float = 1.0) -> List[Dict]:\n",
    "    \"\"\"\n",
    "    뉴스 API를 통해 관련 뉴스 조회\n",
    "    \n",
    "    매개변수:\n",
    "    - min_threshold: 뉴스를 검색할 최소 변동률 (기본값 1%)\n",
    "    \n",
    "    반환값:\n",
    "    - 뉴스 기사 리스트 (최대 3개)\n",
    "    \"\"\"\n",
    "    # NewsAPI 요청 매개변수\n",
    "    params = {\n",
    "        \"apiKey\": self.credentials['news_api'],  # API 키\n",
    "        \"qInTitle\": self.company,                # 제목에 회사명 포함\n",
    "        \"sortBy\": \"publishedAt\",                 # 최신순 정렬\n",
    "        \"pageSize\": 3                            # 최대 3개 기사\n",
    "    }\n",
    "    \n",
    "    try:\n",
    "        # API 요청\n",
    "        response = requests.get(self.api_endpoints['news'], params=params)\n",
    "        response.raise_for_status()\n",
    "        news_data = response.json()\n",
    "        \n",
    "        # \"articles\" 키에서 기사 목록 추출 (최대 3개)\n",
    "        return news_data.get(\"articles\", [])[:3]\n",
    "    except requests.exceptions.RequestException as e:\n",
    "        print(f\"뉴스 조회 실패: {e}\")\n",
    "        return []"
   ]
  },
  {
   "cell_type": "markdown",
   "metadata": {},
   "source": [
    "### 4.7 뉴스 포맷팅 메서드"
   ]
  },
  {
   "cell_type": "code",
   "execution_count": 19,
   "metadata": {},
   "outputs": [],
   "source": [
    "def format_news_item(self, article: Dict, price_info: Tuple[str, float, str]) -> str:\n",
    "    \"\"\"\n",
    "    뉴스 항목을 보기 좋게 포맷팅\n",
    "    \n",
    "    매개변수:\n",
    "    - article: 뉴스 기사 데이터\n",
    "    - price_info: (주식 심볼, 변동률, 상승/하락 표시)\n",
    "    \n",
    "    반환값:\n",
    "    - 포맷팅된 뉴스 문자열\n",
    "    \"\"\"\n",
    "    ticker, percent, indicator = price_info\n",
    "    \n",
    "    # 뉴스 포맷 생성\n",
    "    return (f\"[{ticker}] {indicator} {abs(percent)}% 변동\\n\"\n",
    "            f\"제목: {article.get('title', '제목 없음')}\\n\"\n",
    "            f\"요약: {article.get('description', '내용 없음')[:200]}...\")  # 요약은 200자로 제한"
   ]
  },
  {
   "cell_type": "markdown",
   "metadata": {},
   "source": [
    "### 4.8 메인 분석 메서드"
   ]
  },
  {
   "cell_type": "code",
   "execution_count": 20,
   "metadata": {},
   "outputs": [],
   "source": [
    "def analyze_and_report(self):\n",
    "    \"\"\"\n",
    "    주식 분석 및 리포트 생성 - 전체 프로세스를 실행하는 메인 메서드\n",
    "    \"\"\"\n",
    "    # 1단계: 주식 데이터 가져오기\n",
    "    print(\"주식 데이터를 가져오는 중...\")\n",
    "    stock_data = self.fetch_stock_data()\n",
    "    if not stock_data:\n",
    "        print(\"주식 데이터를 가져올 수 없습니다.\")\n",
    "        return\n",
    "    \n",
    "    # 2단계: 종가 추출\n",
    "    today_close, yesterday_close = self.extract_closing_prices(stock_data)\n",
    "    if today_close is None or yesterday_close is None:\n",
    "        print(\"종가 데이터를 추출할 수 없습니다.\")\n",
    "        return\n",
    "    \n",
    "    # 3단계: 가격 정보 출력\n",
    "    print(f\"\\n[{self.ticker}] 주가 정보\")\n",
    "    print(f\"최근 종가: ${today_close:.2f}\")\n",
    "    print(f\"이전 종가: ${yesterday_close:.2f}\")\n",
    "    \n",
    "    # 4단계: 변동률 계산\n",
    "    change, percent_change, trend = self.calculate_price_change(today_close, yesterday_close)\n",
    "    print(f\"변동률: {percent_change}% ({trend})\")\n",
    "    \n",
    "    # 5단계: 뉴스 확인 (1% 이상 변동 시)\n",
    "    if abs(percent_change) >= 1:\n",
    "        print(\"\\n📰 관련 뉴스를 검색합니다...\")\n",
    "        articles = self.fetch_company_news()\n",
    "        \n",
    "        if articles:\n",
    "            print(f\"\\n최신 {len(articles)}개 뉴스:\\n\")\n",
    "            for idx, article in enumerate(articles, 1):\n",
    "                news_text = self.format_news_item(\n",
    "                    article, \n",
    "                    (self.ticker, percent_change, trend)\n",
    "                )\n",
    "                print(f\"[뉴스 {idx}]\")\n",
    "                print(news_text)\n",
    "                print(\"-\" * 60)\n",
    "        else:\n",
    "            print(\"관련 뉴스를 찾을 수 없습니다.\")\n",
    "    else:\n",
    "        print(\"\\n변동률이 1% 미만이므로 뉴스를 검색하지 않습니다.\")"
   ]
  },
  {
   "cell_type": "markdown",
   "metadata": {},
   "source": [
    "## 5. 실행 예제\n",
    "\n",
    "### 5.1 전체 코드 실행"
   ]
  },
  {
   "cell_type": "code",
   "execution_count": 22,
   "metadata": {},
   "outputs": [
    {
     "name": "stdout",
     "output_type": "stream",
     "text": [
      "최근 종가: $321.20\n",
      "이전 종가: $325.59\n",
      "변동률: -1% (📉)\n",
      "\n",
      "📰 관련 뉴스를 검색합니다...\n",
      "\n",
      "최신 3개 뉴스:\n",
      "\n",
      "[뉴스 1]\n",
      "[TSLA] 📉 1% 변동\n",
      "제목: INVESTOR ALERT: Pomerantz Law Firm Investigates Claims On Behalf of Investors of Tesla, Inc. - TSLA\n",
      "요약: NEW YORK, July 28, 2025 (GLOBE NEWSWIRE) -- Pomerantz LLP is investigating claims on behalf of investors of  Tesla, Inc. (“Tesla” or the “Company”) (NASDAQ: TSLA). Such investors are advised to contac...\n",
      "------------------------------------------------------------\n",
      "[뉴스 2]\n",
      "[TSLA] 📉 1% 변동\n",
      "제목: Tesla, Inc. (TSLA)’s “A Cult Stock,” Says Jim Cramer\n",
      "요약: We recently published 14 Stocks Jim Cramer Discussed As He Went “All In” On Quantum Computing. Tesla, Inc. (NASDAQ:TSLA) is one of the stocks Jim Cramer......\n",
      "------------------------------------------------------------\n",
      "[뉴스 3]\n",
      "[TSLA] 📉 1% 변동\n",
      "제목: Tesla, Inc. (TSLA): A Bull Case Theory\n",
      "요약: We came across a bullish thesis on Tesla, Inc. on Stock Analysis Compilation’s Substack. In this article, we will summarize the bulls’ thesis on TSLA. Tesla,......\n",
      "------------------------------------------------------------\n"
     ]
    }
   ],
   "source": [
    "# 전체 코드를 한 번에 실행합니다\n",
    "import requests\n",
    "from typing import Dict, List, Tuple, Optional\n",
    "\n",
    "class StockAnalyzer:\n",
    "    \"\"\"주식 데이터 분석 및 뉴스 모니터링 클래스\"\"\"\n",
    "    \n",
    "    def __init__(self, ticker: str, company: str):\n",
    "        self.ticker = ticker\n",
    "        self.company = company\n",
    "        self.api_endpoints = {\n",
    "            'stock': \"https://www.alphavantage.co/query\",\n",
    "            'news': \"https://newsapi.org/v2/everything\"\n",
    "        }\n",
    "        self.credentials = {\n",
    "            'alpha_vantage': \"EOWMRQVFKZNV4IFL\",\n",
    "            'news_api': \"008196f15126437588a9e0e1087f2652\"\n",
    "        }\n",
    "        \n",
    "    def fetch_stock_data(self) -> Dict:\n",
    "        \"\"\"Alpha Vantage API를 통해 주식 데이터 조회\"\"\"\n",
    "        parameters = {\n",
    "            \"function\": \"TIME_SERIES_DAILY\",\n",
    "            \"symbol\": self.ticker,\n",
    "            \"apikey\": self.credentials['alpha_vantage']\n",
    "        }\n",
    "        \n",
    "        try:\n",
    "            response = requests.get(self.api_endpoints['stock'], params=parameters)\n",
    "            response.raise_for_status()\n",
    "            return response.json()\n",
    "        except requests.exceptions.RequestException as e:\n",
    "            print(f\"주식 데이터 조회 실패: {e}\")\n",
    "            return {}\n",
    "    \n",
    "    def extract_closing_prices(self, stock_data: Dict) -> Tuple[Optional[float], Optional[float]]:\n",
    "        \"\"\"최근 이틀간의 종가 추출\"\"\"\n",
    "        try:\n",
    "            daily_series = stock_data.get(\"Time Series (Daily)\", {})\n",
    "            dates = sorted(daily_series.keys(), reverse=True)\n",
    "            \n",
    "            if len(dates) < 2:\n",
    "                return None, None\n",
    "                \n",
    "            recent_close = float(daily_series[dates[0]][\"4. close\"])\n",
    "            previous_close = float(daily_series[dates[1]][\"4. close\"])\n",
    "            \n",
    "            return recent_close, previous_close\n",
    "            \n",
    "        except (KeyError, ValueError, IndexError):\n",
    "            return None, None\n",
    "    \n",
    "    def calculate_price_change(self, current: float, previous: float) -> Tuple[float, float, str]:\n",
    "        \"\"\"가격 변동률 계산\"\"\"\n",
    "        change_amount = current - previous\n",
    "        change_percent = (change_amount / previous) * 100\n",
    "        \n",
    "        indicator = \"📈\" if change_amount >= 0 else \"📉\"\n",
    "        \n",
    "        return change_amount, round(change_percent), indicator\n",
    "    \n",
    "    def fetch_company_news(self, min_threshold: float = 1.0) -> List[Dict]:\n",
    "        \"\"\"뉴스 API를 통해 관련 뉴스 조회\"\"\"\n",
    "        params = {\n",
    "            \"apiKey\": self.credentials['news_api'],\n",
    "            \"qInTitle\": self.company,\n",
    "            \"sortBy\": \"publishedAt\",\n",
    "            \"pageSize\": 3\n",
    "        }\n",
    "        \n",
    "        try:\n",
    "            response = requests.get(self.api_endpoints['news'], params=params)\n",
    "            response.raise_for_status()\n",
    "            news_data = response.json()\n",
    "            return news_data.get(\"articles\", [])[:3]\n",
    "        except requests.exceptions.RequestException as e:\n",
    "            print(f\"뉴스 조회 실패: {e}\")\n",
    "            return []\n",
    "    \n",
    "    def format_news_item(self, article: Dict, price_info: Tuple[str, float, str]) -> str:\n",
    "        \"\"\"뉴스 항목 포맷팅\"\"\"\n",
    "        ticker, percent, indicator = price_info\n",
    "        \n",
    "        return (f\"[{ticker}] {indicator} {abs(percent)}% 변동\\n\"\n",
    "                f\"제목: {article.get('title', '제목 없음')}\\n\"\n",
    "                f\"요약: {article.get('description', '내용 없음')[:200]}...\")\n",
    "    \n",
    "    def analyze_and_report(self):\n",
    "        \"\"\"주식 분석 및 리포트 생성\"\"\"\n",
    "        # 주식 데이터 가져오기\n",
    "        stock_data = self.fetch_stock_data()\n",
    "        if not stock_data:\n",
    "            print(\"주식 데이터를 가져올 수 없습니다.\")\n",
    "            return\n",
    "        \n",
    "        # 종가 추출\n",
    "        today_close, yesterday_close = self.extract_closing_prices(stock_data)\n",
    "        if today_close is None or yesterday_close is None:\n",
    "            print(\"종가 데이터를 추출할 수 없습니다.\")\n",
    "            return\n",
    "        \n",
    "        # 가격 정보 출력\n",
    "        print(f\"최근 종가: ${today_close:.2f}\")\n",
    "        print(f\"이전 종가: ${yesterday_close:.2f}\")\n",
    "        \n",
    "        # 변동률 계산\n",
    "        change, percent_change, trend = self.calculate_price_change(today_close, yesterday_close)\n",
    "        print(f\"변동률: {percent_change}% ({trend})\")\n",
    "        \n",
    "        # 뉴스 확인 (1% 이상 변동 시)\n",
    "        if abs(percent_change) >= 1:\n",
    "            print(\"\\n📰 관련 뉴스를 검색합니다...\")\n",
    "            articles = self.fetch_company_news()\n",
    "            \n",
    "            if articles:\n",
    "                print(f\"\\n최신 {len(articles)}개 뉴스:\\n\")\n",
    "                for idx, article in enumerate(articles, 1):\n",
    "                    news_text = self.format_news_item(\n",
    "                        article, \n",
    "                        (self.ticker, percent_change, trend)\n",
    "                    )\n",
    "                    print(f\"[뉴스 {idx}]\")\n",
    "                    print(news_text)\n",
    "                    print(\"-\" * 60)\n",
    "            else:\n",
    "                print(\"관련 뉴스를 찾을 수 없습니다.\")\n",
    "        else:\n",
    "            print(\"\\n변동률이 1% 미만이므로 뉴스를 검색하지 않습니다.\")\n",
    "\n",
    "\n",
    "def main():\n",
    "    \"\"\"메인 실행 함수\"\"\"\n",
    "    # Tesla 주식 모니터링 객체 생성\n",
    "    monitor = StockAnalyzer(ticker=\"TSLA\", company=\"Tesla Inc\")\n",
    "    \n",
    "    # 분석 실행\n",
    "    monitor.analyze_and_report()\n",
    "\n",
    "# 실행\n",
    "if __name__ == \"__main__\":\n",
    "    main()"
   ]
  },
  {
   "cell_type": "markdown",
   "metadata": {},
   "source": [
    "### 5.2 다른 주식 모니터링하기\n",
    "\n",
    "다른 회사의 주식을 모니터링하려면 ticker와 company를 변경하면 됩니다:"
   ]
  },
  {
   "cell_type": "code",
   "execution_count": 23,
   "metadata": {},
   "outputs": [
    {
     "name": "stdout",
     "output_type": "stream",
     "text": [
      "최근 종가: $211.27\n",
      "이전 종가: $214.05\n",
      "변동률: -1% (📉)\n",
      "\n",
      "📰 관련 뉴스를 검색합니다...\n",
      "\n",
      "최신 3개 뉴스:\n",
      "\n",
      "[뉴스 1]\n",
      "[AAPL] 📉 1% 변동\n",
      "제목: Apple Inc. Investors: Please contact the Portnoy Law Firm to recover your losses. August 19, 2025 Deadline to file Lead Plaintiff Motion.\n",
      "요약: Investors can contact the law firm at no cost to learn more about recovering their losses  LOS ANGELES, July  28, 2025  (GLOBE NEWSWIRE) -- The Portnoy......\n",
      "------------------------------------------------------------\n",
      "[뉴스 2]\n",
      "[AAPL] 📉 1% 변동\n",
      "제목: AAPL LAWSUIT: Apple Inc. Sued for Fraud over AI Promises to Investors – Contact BFA Law by August 19 Court Deadline (NASDAQ: AAPL)\n",
      "요약: Apple Inc. investors that lost money are notified to contact BFA Law before the August 19, 2025 securities fraud class action deadline..........\n",
      "------------------------------------------------------------\n",
      "[뉴스 3]\n",
      "[AAPL] 📉 1% 변동\n",
      "제목: SHAREHOLDER ALERT Bernstein Liebhard LLP Announces A Securities Fraud Class Action Lawsuit Has Been Filed Against Apple Inc. (NASDAQ: AAPL)\n",
      "요약: SHAREHOLDER ALERT Bernstein Liebhard LLP Announces A Securities Fraud Class Action Lawsuit Has Been Filed Against Apple Inc. (NASDAQ: AAPL) .........\n",
      "------------------------------------------------------------\n",
      "최근 종가: $512.57\n",
      "이전 종가: $512.50\n",
      "변동률: 0% (📈)\n",
      "\n",
      "변동률이 1% 미만이므로 뉴스를 검색하지 않습니다.\n"
     ]
    }
   ],
   "source": [
    "# Apple 주식 모니터링\n",
    "apple_monitor = StockAnalyzer(ticker=\"AAPL\", company=\"Apple Inc\")\n",
    "apple_monitor.analyze_and_report()\n",
    "\n",
    "# Microsoft 주식 모니터링\n",
    "ms_monitor = StockAnalyzer(ticker=\"MSFT\", company=\"Microsoft\")\n",
    "ms_monitor.analyze_and_report()"
   ]
  },
  {
   "cell_type": "markdown",
   "metadata": {},
   "source": [
    "## 6. 프로그램 흐름도\n",
    "\n",
    "```\n",
    "시작\n",
    " ↓\n",
    "StockAnalyzer 객체 생성 (주식 심볼, 회사명 입력)\n",
    " ↓\n",
    "Alpha Vantage API에서 주식 데이터 가져오기\n",
    " ↓\n",
    "최근 2일간의 종가 추출\n",
    " ↓\n",
    "가격 변동률 계산\n",
    " ↓\n",
    "변동률이 1% 이상인가?\n",
    " ├─ 예 → NewsAPI에서 관련 뉴스 검색 → 뉴스 출력\n",
    " └─ 아니오 → \"뉴스 검색 안 함\" 메시지\n",
    " ↓\n",
    "종료\n",
    "```"
   ]
  },
  {
   "cell_type": "markdown",
   "metadata": {},
   "source": [
    "## 7. 자주 발생하는 오류와 해결방법\n",
    "\n",
    "### 7.1 API 키 오류\n",
    "- **증상**: \"Invalid API key\" 메시지\n",
    "- **해결**: API 키가 올바른지 확인하고, 활성화되었는지 확인\n",
    "\n",
    "### 7.2 네트워크 오류\n",
    "- **증상**: \"Connection Error\" 메시지\n",
    "- **해결**: 인터넷 연결 확인, 방화벽 설정 확인\n",
    "\n",
    "### 7.3 API 호출 제한\n",
    "- **증상**: \"Rate limit exceeded\" 메시지\n",
    "- **해결**: \n",
    "  - Alpha Vantage: 분당 5회, 일일 500회 제한\n",
    "  - NewsAPI: 일일 100회 제한 (무료 계정)\n",
    "  - 호출 간격을 늘리거나 유료 플랜 고려"
   ]
  },
  {
   "cell_type": "markdown",
   "metadata": {},
   "source": [
    "## 8. 확장 아이디어\n",
    "\n",
    "### 8.1 기능 추가\n",
    "- 여러 주식 동시 모니터링\n",
    "- 변동률 알림 임계값 사용자 설정\n",
    "- 과거 데이터 분석 및 차트 생성\n",
    "- 이메일/SMS 알림 기능\n",
    "\n",
    "### 8.2 데이터 저장\n",
    "- CSV/Excel 파일로 데이터 저장\n",
    "- 데이터베이스 연동\n",
    "- 일별/주별/월별 리포트 생성\n",
    "\n",
    "### 8.3 UI 개선\n",
    "- 웹 대시보드 만들기\n",
    "- 실시간 업데이트 기능\n",
    "- 모바일 앱 개발"
   ]
  }
 ],
 "metadata": {
  "kernelspec": {
   "display_name": ".venv",
   "language": "python",
   "name": "python3"
  },
  "language_info": {
   "codemirror_mode": {
    "name": "ipython",
    "version": 3
   },
   "file_extension": ".py",
   "mimetype": "text/x-python",
   "name": "python",
   "nbconvert_exporter": "python",
   "pygments_lexer": "ipython3",
   "version": "3.12.11"
  }
 },
 "nbformat": 4,
 "nbformat_minor": 4
}
